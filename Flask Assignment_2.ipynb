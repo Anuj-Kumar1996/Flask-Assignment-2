{
 "cells": [
  {
   "cell_type": "markdown",
   "id": "718b6660-7057-43fc-b90e-380bb6384eef",
   "metadata": {},
   "source": [
    "Q1. Explain GET and POST methods\n",
    "GET and POST are two common HTTP methods used to send data between a client (e.g. web browser) and a server.\n",
    "GET Method:\n",
    "Used to request data from a specified resource\n",
    "Data is appended to the URL as query parameters\n",
    "Visible in the URL, so not secure for sensitive data\n",
    "Limited amount of data can be sent (URL length restrictions)\n",
    "Idempotent - repeated requests should have the same effect\n",
    "Can be cached and bookmarked"
   ]
  },
  {
   "cell_type": "code",
   "execution_count": null,
   "id": "04ba5a76-52ae-4f95-8824-bd5b2d766a6c",
   "metadata": {},
   "outputs": [],
   "source": [
    "GET /api/users?id=123 HTTP/1.1\n",
    "Host: example.com"
   ]
  },
  {
   "cell_type": "markdown",
   "id": "7ec1b70f-8d0e-43b1-a22b-1d9bfde8f0dc",
   "metadata": {},
   "source": [
    "POST Method:\n",
    "Used to submit data to be processed by the server\n",
    "Data is sent in the request body, not visible in URL\n",
    "More secure for sensitive information\n",
    "Can send larger amounts of data\n",
    "Not idempotent - repeated requests may have additional effects\n",
    "Cannot be cached or bookmarked easily\n",
    "Example POST request:\n",
    "\n",
    "POST /api/users HTTP/1.1\n",
    "Host: example.com\n",
    "Content-Type: application/json\n",
    "\n",
    "{\n",
    "  \"name\": \"John Doe\",\n",
    "  \"email\": \"john@example.com\"\n",
    "}"
   ]
  },
  {
   "cell_type": "markdown",
   "id": "15b60aa2-da29-4155-868f-9e1e8e5576b0",
   "metadata": {},
   "source": [
    "Q2. Why is request used in Flask?\n",
    "The request object in Flask is used to access incoming request data sent by the client. It provides access to:\n",
    "Form data\n",
    "Query string parameters\n",
    "Request headers\n",
    "Cookies\n",
    "Files uploaded in the request\n",
    "JSON data sent in the request body\n",
    "Some common uses of request in Flask:\n",
    "from flask import request\n",
    "\n",
    "# Access form data\n",
    "username = request.form['username']\n",
    "\n",
    "# Get query parameters\n",
    "page = request.args.get('page', 1, type=int)\n",
    "\n",
    "# Get JSON data\n",
    "data = request.get_json()\n",
    "\n",
    "# Access headers\n",
    "user_agent = request.headers.get('User-Agent')\n",
    "\n",
    "# Get uploaded files\n",
    "file = request.files['uploaded_file']"
   ]
  },
  {
   "cell_type": "markdown",
   "id": "e85fbc91-8d23-4eb3-8373-5063277ada2d",
   "metadata": {},
   "source": [
    "Q3. Why is redirect() used in Flask?\n",
    "The redirect() function in Flask is used to send an HTTP redirect response to the client, instructing it to make a new request to a different URL. This is commonly used for:\n",
    "Redirecting after form submissions:\n",
    "\n",
    "\n",
    "@app.route('/submit', methods=['POST'])\n",
    "def submit():\n",
    "    # Process form data\n",
    "    return redirect(url_for('thank_you'))"
   ]
  },
  {
   "cell_type": "markdown",
   "id": "5406c189-c53f-477f-b2a0-67ebae5199ec",
   "metadata": {},
   "source": [
    "Implementing login required functionality:\n",
    "@app.route('/profile')\n",
    "def profile():\n",
    "    if not current_user.is_authenticated:\n",
    "        return redirect(url_for('login'))\n",
    "    return render_template('profile.html')"
   ]
  },
  {
   "cell_type": "markdown",
   "id": "5fd36c6f-a05a-4304-8141-8b6c206b7c1f",
   "metadata": {},
   "source": [
    "Handling old URLs or moved resources:\n",
    "python \n",
    "@app.route('/old-page')\n",
    "def old_page():\n",
    "    return redirect(url_for('new_page'))"
   ]
  },
  {
   "cell_type": "code",
   "execution_count": null,
   "id": "de4d1d47-bec4-4929-aef9-b8c70e8d8d6f",
   "metadata": {},
   "outputs": [],
   "source": [
    "Redirecting to external sites:\n",
    "@app.route('/external')\n",
    "def external_redirect():\n",
    "    return redirect('https://example.com')"
   ]
  },
  {
   "cell_type": "markdown",
   "id": "ade1503f-2be3-4980-9a31-60bf21f3226e",
   "metadata": {},
   "source": [
    "Q4. What are templates in Flask? Why is the render_template() function used?\n",
    "Templates in Flask are files containing static content as well as placeholders for dynamic content. They allow you to separate the presentation logic from the business logic of your application. Flask uses the Jinja2 templating engine by default.\n",
    "Key aspects of templates:\n",
    "They typically have a .html extension\n",
    "Contain HTML markup with special placeholders for dynamic content\n",
    "Use Jinja2 syntax for variables, loops, conditionals, etc.\n",
    "\n",
    "<!DOCTYPE html>\n",
    "<html>\n",
    "<head>\n",
    "    <title>{{ title }}</title>\n",
    "</head>\n",
    "<body>\n",
    "    <h1>Hello, {{ name }}!</h1>\n",
    "    <ul>\n",
    "    {% for item in items %}\n",
    "        <li>{{ item }}</li>\n",
    "    {% endfor %}\n",
    "    </ul>\n",
    "</body>\n",
    "</html>"
   ]
  },
  {
   "cell_type": "markdown",
   "id": "3f0d1374-d531-4849-93f6-615cb74419bf",
   "metadata": {},
   "source": [
    "The render_template() function:\n",
    "render_template() is used to render these templates. It:\n",
    "Loads the specified template file\n",
    "Processes any template syntax (variables, loops, etc.)\n",
    "Replaces placeholders with actual values\n",
    "Returns the resulting HTML string\n",
    "Example usage:\n",
    "python\n",
    "\n",
    "from flask import render_template\n",
    "\n",
    "@app.route('/hello/<name>')\n",
    "def hello(name):\n",
    "    return render_template('hello.html', name=name, title='Greeting', items=['apple', 'banana', 'cherry'])\n",
    "\n",
    "\n",
    "    Using render_template() allows you to:\n",
    "Keep your HTML separate from your Python code\n",
    "Reuse templates across multiple routes\n",
    "Easily pass dynamic data to your templates\n",
    "Leverage Jinja2's powerful features like template inheritance\n",
    "This separation of concerns makes your Flask applications more maintainable and easier to develop."
   ]
  },
  {
   "cell_type": "markdown",
   "id": "1b0cd5af-9c6b-4415-9ad2-2ece4f4c7e1e",
   "metadata": {},
   "source": [
    "Q5. Create a simple API. Use Postman to test it. Attach the screenshot of the output in the Jupyter Notebook.\n",
    "Here's a simple Flask API with GET and POST endpoints:\n",
    "\n",
    "from flask import Flask, request, jsonify\n",
    "\n",
    "app = Flask(__name__)\n",
    "\n",
    "# Sample data\n",
    "books = [\n",
    "    {\"id\": 1, \"title\": \"To Kill a Mockingbird\", \"author\": \"Harper Lee\"},\n",
    "    {\"id\": 2, \"title\": \"1984\", \"author\": \"George Orwell\"}\n",
    "]\n",
    "\n",
    "@app.route('/api/books', methods=['GET'])\n",
    "def get_books():\n",
    "    return jsonify(books)\n",
    "\n",
    "@app.route('/api/books', methods=['POST'])\n",
    "def add_book():\n",
    "    new_book = request.json\n",
    "    new_book['id'] = len(books) + 1\n",
    "    books.append(new_book)\n",
    "    return jsonify(new_book), 201\n",
    "\n",
    "if __name__ == '__main__':\n",
    "    app.run(debug=True)"
   ]
  },
  {
   "cell_type": "code",
   "execution_count": null,
   "id": "17bcfb25-7f32-47d2-823f-09c274320af9",
   "metadata": {},
   "outputs": [],
   "source": []
  }
 ],
 "metadata": {
  "kernelspec": {
   "display_name": "Python 3 (ipykernel)",
   "language": "python",
   "name": "python3"
  },
  "language_info": {
   "codemirror_mode": {
    "name": "ipython",
    "version": 3
   },
   "file_extension": ".py",
   "mimetype": "text/x-python",
   "name": "python",
   "nbconvert_exporter": "python",
   "pygments_lexer": "ipython3",
   "version": "3.12.4"
  }
 },
 "nbformat": 4,
 "nbformat_minor": 5
}
