{
 "cells": [
  {
   "cell_type": "markdown",
   "id": "86b046ef-66a5-469d-abd0-e119856519b5",
   "metadata": {},
   "source": [
    "Q1. What is an API? Give an example, where an API is used in real life.\n",
    "An API (Application Programming Interface) is a set of rules and protocols that allows different software applications to communicate with each other.\n",
    "Example: Social media platforms like Twitter provide APIs that allow developers to access tweets and user data for integration into other applications."
   ]
  },
  {
   "cell_type": "markdown",
   "id": "44fab8c6-6e6a-45ab-a84f-e3fab4db77ff",
   "metadata": {},
   "source": [
    "Q2. Give advantages and disadvantages of using API.\n",
    "Advantages:\n",
    "Facilitates integration between different systems.\n",
    "Enhances functionality by allowing access to external services.\n",
    "Promotes automation and efficiency.\n",
    "Disadvantages:\n",
    "Security risks if not properly managed.\n",
    "Dependency on third-party services can lead to issues if the API changes or becomes unavailable.\n",
    "Can be complex to implement and maintain."
   ]
  },
  {
   "cell_type": "markdown",
   "id": "94c60bdf-1fab-4b61-92c8-12f4e635433f",
   "metadata": {},
   "source": [
    "Q3. What is a Web API? Differentiate between API and Web API.\n",
    "A Web API is an API that can be accessed over the internet using HTTP/HTTPS protocols.\n",
    "Difference:\n",
    "API: General term for any interface that allows communication between software components.\n",
    "Web API: Specifically designed to be accessed via web protocols, typically using REST or SOAP"
   ]
  },
  {
   "cell_type": "markdown",
   "id": "d0d8ee65-4703-499a-95f4-88546aae80bf",
   "metadata": {},
   "source": [
    "Q4. Explain REST and SOAP Architecture. Mention shortcomings of SOAP.\n",
    "REST (Representational State Transfer):\n",
    "Uses standard HTTP methods (GET, POST, PUT, DELETE).\n",
    "Stateless operations, meaning each request from client to server must contain all information needed to understand and process the request.\n",
    "Typically uses JSON or XML for data exchange.\n",
    "SOAP (Simple Object Access Protocol):\n",
    "Protocol for exchanging structured information in web services.\n",
    "Uses XML format for messages.\n",
    "More rigid and requires more bandwidth compared to REST.\n",
    "Shortcomings of SOAP:\n",
    "More complex and less flexible than REST.\n",
    "Higher overhead due to XML messaging.\n",
    "Requires more bandwidth and processing powe"
   ]
  },
  {
   "attachments": {},
   "cell_type": "markdown",
   "id": "898850f8-1d8a-4029-9f16-813cfc7560c2",
   "metadata": {},
   "source": []
  },
  {
   "cell_type": "code",
   "execution_count": null,
   "id": "14ca50cf-a8b7-4f67-b477-08b4e90a3259",
   "metadata": {},
   "outputs": [],
   "source": []
  }
 ],
 "metadata": {
  "kernelspec": {
   "display_name": "Python 3 (ipykernel)",
   "language": "python",
   "name": "python3"
  },
  "language_info": {
   "codemirror_mode": {
    "name": "ipython",
    "version": 3
   },
   "file_extension": ".py",
   "mimetype": "text/x-python",
   "name": "python",
   "nbconvert_exporter": "python",
   "pygments_lexer": "ipython3",
   "version": "3.12.4"
  }
 },
 "nbformat": 4,
 "nbformat_minor": 5
}
